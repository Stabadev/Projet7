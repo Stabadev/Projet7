{
 "cells": [
  {
   "cell_type": "markdown",
   "id": "7af51031-1c17-4798-9d34-dd0efdb6e3c9",
   "metadata": {},
   "source": [
    "# Créateur de Fichier Requirements\n",
    "\n",
    "## Explication du Script\n",
    "\n",
    "Ce script, intitulé \"Créateur de Fichier Requirements\", aide à la création d'un fichier `requirements.txt` pour les projets Python sur GitHub. Il parcourt tous les fichiers `.ipynb` et `.py` dans les répertoires du projet pour extraire les importations de modules Python. \n",
    "\n",
    "Les lignes de code commençant par \"import \" sont filtrées, les alias et les doublons sont supprimés, et seuls les noms de modules sont conservés. Les résultats sont exportés dans un fichier `requirements.txt` dans le répertoire parent du script.\n",
    "\n",
    "### Auteurs\n",
    "Ce script a été créé par Alex avec l'aide de ChatGPT.\n"
   ]
  },
  {
   "cell_type": "code",
   "execution_count": 15,
   "id": "fb178abc-bdce-4273-95e8-3923fde20cfe",
   "metadata": {},
   "outputs": [
    {
     "name": "stdout",
     "output_type": "stream",
     "text": [
      "Import code lines have been exported to /home/alexandre/Documents/DataScientist/Projet7/requirements.txt\n"
     ]
    }
   ],
   "source": [
    "import json\n",
    "import os\n",
    "\n",
    "# Obtenez le chemin du répertoire parent où se trouve le script\n",
    "current_directory = os.getcwd()\n",
    "parent_directory = os.path.dirname(current_directory)\n",
    "# Définir le chemin du fichier de sortie\n",
    "output_path = os.path.join(parent_directory, 'requirements.txt')\n",
    "\n",
    "# Initialiser un ensemble pour stocker les modules sans doublons\n",
    "modules = set()\n",
    "\n",
    "# Parcourez tous les fichiers dans le répertoire parent et ses sous-répertoires\n",
    "for root, dirs, files in os.walk(parent_directory):\n",
    "    # Parcourez chaque fichier dans le répertoire courant\n",
    "    for filename in files:\n",
    "        # Vérifiez si le fichier est un notebook Jupyter\n",
    "        if filename.endswith('.ipynb'):\n",
    "            notebook_path = os.path.join(root, filename)\n",
    "            \n",
    "            # Ouvrir et lire le fichier notebook\n",
    "            with open(notebook_path, 'r', encoding='utf-8') as nb_file:\n",
    "                notebook = json.load(nb_file)\n",
    "            \n",
    "            # Parcourez les cellules du notebook\n",
    "            for cell in notebook['cells']:\n",
    "                # Vérifiez si la cellule est de type code\n",
    "                if cell['cell_type'] == 'code':\n",
    "                    # Parcourez les lignes de code de la cellule\n",
    "                    for line in cell['source']:\n",
    "                        # Vérifiez si la ligne commence par \"import \"\n",
    "                        if line.strip().startswith('import '):\n",
    "                            # Extraire le module et retirer les alias \"as *\"\n",
    "                            module = line.strip().replace('import ', '').split(' as ')[0]\n",
    "                            # Si la ligne contient un point, ne conserver que le texte avant le point\n",
    "                            module = module.split('.')[0]\n",
    "                            # Ajouter le module à l'ensemble des modules\n",
    "                            modules.add(module)\n",
    "        \n",
    "        # Vérifiez si le fichier est un script Python\n",
    "        elif filename.endswith('.py'):\n",
    "            pyfile_path = os.path.join(root, filename)\n",
    "            \n",
    "            # Ouvrir et lire le fichier Python\n",
    "            with open(pyfile_path, 'r', encoding='utf-8') as py_file:\n",
    "                lines = py_file.readlines()\n",
    "                # Parcourez les lignes du fichier Python\n",
    "                for line in lines:\n",
    "                    # Vérifiez si la ligne commence par \"import \"\n",
    "                    if line.strip().startswith('import '):\n",
    "                        # Extraire le module et retirer les alias \"as *\"\n",
    "                        module = line.strip().replace('import ', '').split(' as ')[0]\n",
    "                        # Si la ligne contient un point, ne conserver que le texte avant le point\n",
    "                        module = module.split('.')[0]\n",
    "                        # Ajouter le module à l'ensemble des modules\n",
    "                        modules.add(module)\n",
    "\n",
    "# Trier les modules par ordre alphabétique\n",
    "sorted_modules = sorted(modules)\n",
    "\n",
    "# Écrire les modules filtrés et uniques dans le fichier de sortie\n",
    "with open(output_path, 'w', encoding='utf-8') as output_file:\n",
    "    # Ajouter le commentaire initial\n",
    "    output_file.write(\"# Voici les modules nécessaire à l'exécution des différents scripts présents dans le projet\")\n",
    "    output_file.write(\"\\n# Cette liste a été générée en parcourant chacun des fichiers *.ipynb et *.py présents dans les dossiers et sous-dossiers du projet\\n\")\n",
    "    # Joindre les modules sans sauter de ligne entre chaque ligne\n",
    "    output_file.write('\\n'.join(sorted_modules))\n",
    "    \n",
    "\n",
    "# Imprimer le chemin du fichier de sortie\n",
    "print(f\"Import code lines have been exported to {output_path}\")\n"
   ]
  },
  {
   "cell_type": "code",
   "execution_count": null,
   "id": "462ac4c9-5e73-4096-b1fe-053506737a55",
   "metadata": {},
   "outputs": [],
   "source": []
  }
 ],
 "metadata": {
  "kernelspec": {
   "display_name": "Python 3 (ipykernel)",
   "language": "python",
   "name": "python3"
  },
  "language_info": {
   "codemirror_mode": {
    "name": "ipython",
    "version": 3
   },
   "file_extension": ".py",
   "mimetype": "text/x-python",
   "name": "python",
   "nbconvert_exporter": "python",
   "pygments_lexer": "ipython3",
   "version": "3.12.3"
  }
 },
 "nbformat": 4,
 "nbformat_minor": 5
}

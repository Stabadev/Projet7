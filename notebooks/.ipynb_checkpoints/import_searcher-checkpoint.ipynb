{
 "cells": [
  {
   "cell_type": "code",
   "execution_count": null,
   "id": "fb178abc-bdce-4273-95e8-3923fde20cfe",
   "metadata": {},
   "outputs": [],
   "source": [
    "import json\n",
    "import os\n",
    "\n",
    "# Obtenez le chemin du répertoire parent où se trouve le script\n",
    "parent_directory = os.path.dirname(os.path.dirname(os.path.abspath(__file__)))\n",
    "output_path = os.path.join(parent_directory, 'import_code_cells.txt')\n",
    "\n",
    "code_cells = []\n",
    "\n",
    "# Parcourez tous les fichiers dans le répertoire parent et ses sous-répertoires\n",
    "for root, dirs, files in os.walk(parent_directory):\n",
    "    for filename in files:\n",
    "        if filename.endswith('.ipynb'):\n",
    "            notebook_path = os.path.join(root, filename)\n",
    "            \n",
    "            with open(notebook_path, 'r', encoding='utf-8') as nb_file:\n",
    "                notebook = json.load(nb_file)\n",
    "\n",
    "            for cell in notebook['cells']:\n",
    "                if cell['cell_type'] == 'code':\n",
    "                    code = ''.join(cell['source'])\n",
    "                    if code.strip().startswith(('import', 'from')):\n",
    "                        code_cells.append(code)\n",
    "        elif filename.endswith('.py'):\n",
    "            pyfile_path = os.path.join(root, filename)\n",
    "            \n",
    "            with open(pyfile_path, 'r', encoding='utf-8') as py_file:\n",
    "                lines = py_file.readlines()\n",
    "                for line in lines:\n",
    "                    if line.strip().startswith(('import', 'from')):\n",
    "                        code_cells.append(line.strip())\n",
    "\n",
    "# Écrivez les cellules de code filtrées dans le fichier de sortie\n",
    "with open(output_path, 'w', encoding='utf-8') as output_file:\n",
    "    output_file.write('\\n\\n'.join(code_cells))\n",
    "\n",
    "print(f\"Import code cells have been exported to {output_path}\")\n"
   ]
  }
 ],
 "metadata": {
  "kernelspec": {
   "display_name": "Python 3 (ipykernel)",
   "language": "python",
   "name": "python3"
  },
  "language_info": {
   "codemirror_mode": {
    "name": "ipython",
    "version": 3
   },
   "file_extension": ".py",
   "mimetype": "text/x-python",
   "name": "python",
   "nbconvert_exporter": "python",
   "pygments_lexer": "ipython3",
   "version": "3.12.3"
  }
 },
 "nbformat": 4,
 "nbformat_minor": 5
}

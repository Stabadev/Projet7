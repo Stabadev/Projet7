{
 "cells": [
  {
   "cell_type": "code",
   "execution_count": 1,
   "id": "cd5b440f-bfe4-4e93-9e6c-7722311800c8",
   "metadata": {
    "scrolled": true
   },
   "outputs": [
    {
     "name": "stdout",
     "output_type": "stream",
     "text": [
      "Collecting numpy\n",
      "  Using cached numpy-1.26.4-cp312-cp312-manylinux_2_17_x86_64.manylinux2014_x86_64.whl.metadata (61 kB)\n",
      "Collecting pandas\n",
      "  Using cached pandas-2.2.2-cp312-cp312-manylinux_2_17_x86_64.manylinux2014_x86_64.whl.metadata (19 kB)\n",
      "Collecting scikit-learn\n",
      "  Downloading scikit_learn-1.5.0-cp312-cp312-manylinux_2_17_x86_64.manylinux2014_x86_64.whl.metadata (11 kB)\n",
      "Collecting matplotlib\n",
      "  Using cached matplotlib-3.9.0-cp312-cp312-manylinux_2_17_x86_64.manylinux2014_x86_64.whl.metadata (11 kB)\n",
      "Collecting seaborn\n",
      "  Using cached seaborn-0.13.2-py3-none-any.whl.metadata (5.4 kB)\n",
      "Requirement already satisfied: python-dateutil>=2.8.2 in /home/alexandre/anaconda3/envs/stabadenvP7/lib/python3.12/site-packages (from pandas) (2.9.0.post0)\n",
      "Requirement already satisfied: pytz>=2020.1 in /home/alexandre/anaconda3/envs/stabadenvP7/lib/python3.12/site-packages (from pandas) (2024.1)\n",
      "Collecting tzdata>=2022.7 (from pandas)\n",
      "  Using cached tzdata-2024.1-py2.py3-none-any.whl.metadata (1.4 kB)\n",
      "Collecting scipy>=1.6.0 (from scikit-learn)\n",
      "  Using cached scipy-1.13.1-cp312-cp312-manylinux_2_17_x86_64.manylinux2014_x86_64.whl.metadata (60 kB)\n",
      "Collecting joblib>=1.2.0 (from scikit-learn)\n",
      "  Using cached joblib-1.4.2-py3-none-any.whl.metadata (5.4 kB)\n",
      "Collecting threadpoolctl>=3.1.0 (from scikit-learn)\n",
      "  Using cached threadpoolctl-3.5.0-py3-none-any.whl.metadata (13 kB)\n",
      "Collecting contourpy>=1.0.1 (from matplotlib)\n",
      "  Using cached contourpy-1.2.1-cp312-cp312-manylinux_2_17_x86_64.manylinux2014_x86_64.whl.metadata (5.8 kB)\n",
      "Collecting cycler>=0.10 (from matplotlib)\n",
      "  Using cached cycler-0.12.1-py3-none-any.whl.metadata (3.8 kB)\n",
      "Collecting fonttools>=4.22.0 (from matplotlib)\n",
      "  Downloading fonttools-4.53.0-cp312-cp312-manylinux_2_5_x86_64.manylinux1_x86_64.manylinux_2_17_x86_64.manylinux2014_x86_64.whl.metadata (162 kB)\n",
      "\u001b[2K     \u001b[38;2;114;156;31m━━━━━━━━━━━━━━━━━━━━━━━━━━━━━━━━━━━━━\u001b[0m \u001b[32m162.2/162.2 kB\u001b[0m \u001b[31m421.2 kB/s\u001b[0m eta \u001b[36m0:00:00\u001b[0m1m548.9 kB/s\u001b[0m eta \u001b[36m0:00:01\u001b[0m\n",
      "\u001b[?25hCollecting kiwisolver>=1.3.1 (from matplotlib)\n",
      "  Using cached kiwisolver-1.4.5-cp312-cp312-manylinux_2_17_x86_64.manylinux2014_x86_64.whl.metadata (6.4 kB)\n",
      "Requirement already satisfied: packaging>=20.0 in /home/alexandre/anaconda3/envs/stabadenvP7/lib/python3.12/site-packages (from matplotlib) (23.2)\n",
      "Collecting pillow>=8 (from matplotlib)\n",
      "  Using cached pillow-10.3.0-cp312-cp312-manylinux_2_28_x86_64.whl.metadata (9.2 kB)\n",
      "Collecting pyparsing>=2.3.1 (from matplotlib)\n",
      "  Using cached pyparsing-3.1.2-py3-none-any.whl.metadata (5.1 kB)\n",
      "Requirement already satisfied: six>=1.5 in /home/alexandre/anaconda3/envs/stabadenvP7/lib/python3.12/site-packages (from python-dateutil>=2.8.2->pandas) (1.16.0)\n",
      "Using cached numpy-1.26.4-cp312-cp312-manylinux_2_17_x86_64.manylinux2014_x86_64.whl (18.0 MB)\n",
      "Using cached pandas-2.2.2-cp312-cp312-manylinux_2_17_x86_64.manylinux2014_x86_64.whl (12.7 MB)\n",
      "Downloading scikit_learn-1.5.0-cp312-cp312-manylinux_2_17_x86_64.manylinux2014_x86_64.whl (13.1 MB)\n",
      "\u001b[2K   \u001b[38;2;114;156;31m━━━━━━━━━━━━━━━━━━━━━━━━━━━━━━━━━━━━━━━━\u001b[0m \u001b[32m13.1/13.1 MB\u001b[0m \u001b[31m4.6 MB/s\u001b[0m eta \u001b[36m0:00:00\u001b[0mm eta \u001b[36m0:00:01\u001b[0m[36m0:00:01\u001b[0m\n",
      "\u001b[?25hUsing cached matplotlib-3.9.0-cp312-cp312-manylinux_2_17_x86_64.manylinux2014_x86_64.whl (8.3 MB)\n",
      "Using cached seaborn-0.13.2-py3-none-any.whl (294 kB)\n",
      "Using cached contourpy-1.2.1-cp312-cp312-manylinux_2_17_x86_64.manylinux2014_x86_64.whl (309 kB)\n",
      "Using cached cycler-0.12.1-py3-none-any.whl (8.3 kB)\n",
      "Downloading fonttools-4.53.0-cp312-cp312-manylinux_2_5_x86_64.manylinux1_x86_64.manylinux_2_17_x86_64.manylinux2014_x86_64.whl (4.9 MB)\n",
      "\u001b[2K   \u001b[38;2;114;156;31m━━━━━━━━━━━━━━━━━━━━━━━━━━━━━━━━━━━━━━━━\u001b[0m \u001b[32m4.9/4.9 MB\u001b[0m \u001b[31m5.4 MB/s\u001b[0m eta \u001b[36m0:00:00\u001b[0mm eta \u001b[36m0:00:01\u001b[0m[36m0:00:01\u001b[0m\n",
      "\u001b[?25hUsing cached joblib-1.4.2-py3-none-any.whl (301 kB)\n",
      "Using cached kiwisolver-1.4.5-cp312-cp312-manylinux_2_17_x86_64.manylinux2014_x86_64.whl (1.5 MB)\n",
      "Using cached pillow-10.3.0-cp312-cp312-manylinux_2_28_x86_64.whl (4.5 MB)\n",
      "Using cached pyparsing-3.1.2-py3-none-any.whl (103 kB)\n",
      "Using cached scipy-1.13.1-cp312-cp312-manylinux_2_17_x86_64.manylinux2014_x86_64.whl (38.2 MB)\n",
      "Using cached threadpoolctl-3.5.0-py3-none-any.whl (18 kB)\n",
      "Using cached tzdata-2024.1-py2.py3-none-any.whl (345 kB)\n",
      "Installing collected packages: tzdata, threadpoolctl, pyparsing, pillow, numpy, kiwisolver, joblib, fonttools, cycler, scipy, pandas, contourpy, scikit-learn, matplotlib, seaborn\n",
      "Successfully installed contourpy-1.2.1 cycler-0.12.1 fonttools-4.53.0 joblib-1.4.2 kiwisolver-1.4.5 matplotlib-3.9.0 numpy-1.26.4 pandas-2.2.2 pillow-10.3.0 pyparsing-3.1.2 scikit-learn-1.5.0 scipy-1.13.1 seaborn-0.13.2 threadpoolctl-3.5.0 tzdata-2024.1\n"
     ]
    }
   ],
   "source": [
    "!pip install numpy pandas scikit-learn matplotlib seaborn\n"
   ]
  },
  {
   "cell_type": "code",
   "execution_count": 1,
   "id": "a20a7d7e-b477-41d4-ba52-65fad90a7ffe",
   "metadata": {},
   "outputs": [
    {
     "name": "stdout",
     "output_type": "stream",
     "text": [
      "Requirement already satisfied: scikit-learn in /home/alexandre/anaconda3/envs/stabadenvP7/lib/python3.12/site-packages (1.5.0)\n",
      "Requirement already satisfied: numpy>=1.19.5 in /home/alexandre/anaconda3/envs/stabadenvP7/lib/python3.12/site-packages (from scikit-learn) (1.26.4)\n",
      "Requirement already satisfied: scipy>=1.6.0 in /home/alexandre/anaconda3/envs/stabadenvP7/lib/python3.12/site-packages (from scikit-learn) (1.13.1)\n",
      "Requirement already satisfied: joblib>=1.2.0 in /home/alexandre/anaconda3/envs/stabadenvP7/lib/python3.12/site-packages (from scikit-learn) (1.4.2)\n",
      "Requirement already satisfied: threadpoolctl>=3.1.0 in /home/alexandre/anaconda3/envs/stabadenvP7/lib/python3.12/site-packages (from scikit-learn) (3.5.0)\n",
      "Note: you may need to restart the kernel to use updated packages.\n"
     ]
    }
   ],
   "source": [
    "pip install --upgrade scikit-learn\n"
   ]
  },
  {
   "cell_type": "code",
   "execution_count": 3,
   "id": "a063c09b-522e-435a-a905-ca841abdc9a6",
   "metadata": {},
   "outputs": [
    {
     "name": "stdout",
     "output_type": "stream",
     "text": [
      "Collecting lightgbm\n",
      "  Downloading lightgbm-4.3.0-py3-none-manylinux_2_28_x86_64.whl.metadata (19 kB)\n",
      "Requirement already satisfied: numpy in /home/alexandre/anaconda3/envs/stabadenvP7/lib/python3.12/site-packages (from lightgbm) (1.26.4)\n",
      "Requirement already satisfied: scipy in /home/alexandre/anaconda3/envs/stabadenvP7/lib/python3.12/site-packages (from lightgbm) (1.13.1)\n",
      "Downloading lightgbm-4.3.0-py3-none-manylinux_2_28_x86_64.whl (3.1 MB)\n",
      "\u001b[2K   \u001b[38;2;114;156;31m━━━━━━━━━━━━━━━━━━━━━━━━━━━━━━━━━━━━━━━━\u001b[0m \u001b[32m3.1/3.1 MB\u001b[0m \u001b[31m2.5 MB/s\u001b[0m eta \u001b[36m0:00:00\u001b[0mm eta \u001b[36m0:00:01\u001b[0m0:01\u001b[0m:01\u001b[0m\n",
      "\u001b[?25hInstalling collected packages: lightgbm\n",
      "Successfully installed lightgbm-4.3.0\n",
      "Note: you may need to restart the kernel to use updated packages.\n"
     ]
    }
   ],
   "source": [
    "pip install lightgbm\n"
   ]
  },
  {
   "cell_type": "code",
   "execution_count": 1,
   "id": "12ea3ce9-8196-4b05-be3b-ae79d1125198",
   "metadata": {},
   "outputs": [
    {
     "name": "stdout",
     "output_type": "stream",
     "text": [
      "Requirement already satisfied: requests in /home/alexandre/anaconda3/envs/stabadenvP7/lib/python3.12/site-packages (2.32.2)\n",
      "Requirement already satisfied: charset-normalizer<4,>=2 in /home/alexandre/anaconda3/envs/stabadenvP7/lib/python3.12/site-packages (from requests) (2.0.4)\n",
      "Requirement already satisfied: idna<4,>=2.5 in /home/alexandre/anaconda3/envs/stabadenvP7/lib/python3.12/site-packages (from requests) (3.7)\n",
      "Requirement already satisfied: urllib3<3,>=1.21.1 in /home/alexandre/anaconda3/envs/stabadenvP7/lib/python3.12/site-packages (from requests) (2.2.1)\n",
      "Requirement already satisfied: certifi>=2017.4.17 in /home/alexandre/anaconda3/envs/stabadenvP7/lib/python3.12/site-packages (from requests) (2024.6.2)\n",
      "Note: you may need to restart the kernel to use updated packages.\n"
     ]
    }
   ],
   "source": [
    "pip install requests"
   ]
  },
  {
   "cell_type": "code",
   "execution_count": 2,
   "id": "c2aae107-5b97-4ba6-9cba-465447a59d36",
   "metadata": {},
   "outputs": [
    {
     "name": "stdout",
     "output_type": "stream",
     "text": [
      "\u001b[31mERROR: Could not find a version that satisfies the requirement json (from versions: none)\u001b[0m\u001b[31m\n",
      "\u001b[0m\u001b[31mERROR: No matching distribution found for json\u001b[0m\u001b[31m\n",
      "\u001b[0mNote: you may need to restart the kernel to use updated packages.\n"
     ]
    }
   ],
   "source": [
    "pip install json"
   ]
  },
  {
   "cell_type": "code",
   "execution_count": 3,
   "id": "6cadf8f7-7e6b-4366-85ad-76d270646f88",
   "metadata": {},
   "outputs": [
    {
     "name": "stdout",
     "output_type": "stream",
     "text": [
      "Collecting folium\n",
      "  Downloading folium-0.16.0-py2.py3-none-any.whl.metadata (3.6 kB)\n",
      "Collecting branca>=0.6.0 (from folium)\n",
      "  Downloading branca-0.7.2-py3-none-any.whl.metadata (1.5 kB)\n",
      "Requirement already satisfied: jinja2>=2.9 in /home/alexandre/anaconda3/envs/stabadenvP7/lib/python3.12/site-packages (from folium) (3.1.4)\n",
      "Requirement already satisfied: numpy in /home/alexandre/anaconda3/envs/stabadenvP7/lib/python3.12/site-packages (from folium) (1.26.4)\n",
      "Requirement already satisfied: requests in /home/alexandre/anaconda3/envs/stabadenvP7/lib/python3.12/site-packages (from folium) (2.32.2)\n",
      "Collecting xyzservices (from folium)\n",
      "  Downloading xyzservices-2024.6.0-py3-none-any.whl.metadata (4.0 kB)\n",
      "Requirement already satisfied: MarkupSafe>=2.0 in /home/alexandre/anaconda3/envs/stabadenvP7/lib/python3.12/site-packages (from jinja2>=2.9->folium) (2.1.3)\n",
      "Requirement already satisfied: charset-normalizer<4,>=2 in /home/alexandre/anaconda3/envs/stabadenvP7/lib/python3.12/site-packages (from requests->folium) (2.0.4)\n",
      "Requirement already satisfied: idna<4,>=2.5 in /home/alexandre/anaconda3/envs/stabadenvP7/lib/python3.12/site-packages (from requests->folium) (3.7)\n",
      "Requirement already satisfied: urllib3<3,>=1.21.1 in /home/alexandre/anaconda3/envs/stabadenvP7/lib/python3.12/site-packages (from requests->folium) (2.2.1)\n",
      "Requirement already satisfied: certifi>=2017.4.17 in /home/alexandre/anaconda3/envs/stabadenvP7/lib/python3.12/site-packages (from requests->folium) (2024.6.2)\n",
      "Downloading folium-0.16.0-py2.py3-none-any.whl (100 kB)\n",
      "\u001b[2K   \u001b[38;2;114;156;31m━━━━━━━━━━━━━━━━━━━━━━━━━━━━━━━━━━━━━━━\u001b[0m \u001b[32m100.0/100.0 kB\u001b[0m \u001b[31m928.0 kB/s\u001b[0m eta \u001b[36m0:00:00\u001b[0m kB/s\u001b[0m eta \u001b[36m0:00:01\u001b[0m\n",
      "\u001b[?25hDownloading branca-0.7.2-py3-none-any.whl (25 kB)\n",
      "Downloading xyzservices-2024.6.0-py3-none-any.whl (83 kB)\n",
      "\u001b[2K   \u001b[38;2;114;156;31m━━━━━━━━━━━━━━━━━━━━━━━━━━━━━━━━━━━━━━━━\u001b[0m \u001b[32m83.9/83.9 kB\u001b[0m \u001b[31m817.5 kB/s\u001b[0m eta \u001b[36m0:00:00\u001b[0m kB/s\u001b[0m eta \u001b[36m0:00:01\u001b[0m1\u001b[0m\n",
      "\u001b[?25hInstalling collected packages: xyzservices, branca, folium\n",
      "Successfully installed branca-0.7.2 folium-0.16.0 xyzservices-2024.6.0\n",
      "Note: you may need to restart the kernel to use updated packages.\n"
     ]
    }
   ],
   "source": [
    "pip install folium\n"
   ]
  },
  {
   "cell_type": "code",
   "execution_count": 1,
   "id": "510b0992-3511-4cc6-b368-22598765cdb3",
   "metadata": {},
   "outputs": [
    {
     "name": "stdout",
     "output_type": "stream",
     "text": [
      "Requirement already satisfied: mlflow in /home/alexandre/anaconda3/envs/stabadenvP7/lib/python3.12/site-packages (2.14.0)\n",
      "Requirement already satisfied: Flask<4 in /home/alexandre/anaconda3/envs/stabadenvP7/lib/python3.12/site-packages (from mlflow) (3.0.3)\n",
      "Requirement already satisfied: alembic!=1.10.0,<2 in /home/alexandre/anaconda3/envs/stabadenvP7/lib/python3.12/site-packages (from mlflow) (1.13.1)\n",
      "Requirement already satisfied: cachetools<6,>=5.0.0 in /home/alexandre/anaconda3/envs/stabadenvP7/lib/python3.12/site-packages (from mlflow) (5.3.3)\n",
      "Requirement already satisfied: click<9,>=7.0 in /home/alexandre/anaconda3/envs/stabadenvP7/lib/python3.12/site-packages (from mlflow) (8.1.7)\n",
      "Requirement already satisfied: cloudpickle<4 in /home/alexandre/anaconda3/envs/stabadenvP7/lib/python3.12/site-packages (from mlflow) (3.0.0)\n",
      "Requirement already satisfied: docker<8,>=4.0.0 in /home/alexandre/anaconda3/envs/stabadenvP7/lib/python3.12/site-packages (from mlflow) (7.1.0)\n",
      "Requirement already satisfied: entrypoints<1 in /home/alexandre/anaconda3/envs/stabadenvP7/lib/python3.12/site-packages (from mlflow) (0.4)\n",
      "Requirement already satisfied: gitpython<4,>=3.1.9 in /home/alexandre/anaconda3/envs/stabadenvP7/lib/python3.12/site-packages (from mlflow) (3.1.43)\n",
      "Requirement already satisfied: graphene<4 in /home/alexandre/anaconda3/envs/stabadenvP7/lib/python3.12/site-packages (from mlflow) (3.3)\n",
      "Requirement already satisfied: importlib-metadata!=4.7.0,<8,>=3.7.0 in /home/alexandre/anaconda3/envs/stabadenvP7/lib/python3.12/site-packages (from mlflow) (7.1.0)\n",
      "Requirement already satisfied: markdown<4,>=3.3 in /home/alexandre/anaconda3/envs/stabadenvP7/lib/python3.12/site-packages (from mlflow) (3.6)\n",
      "Requirement already satisfied: matplotlib<4 in /home/alexandre/anaconda3/envs/stabadenvP7/lib/python3.12/site-packages (from mlflow) (3.9.0)\n",
      "Requirement already satisfied: numpy<2 in /home/alexandre/anaconda3/envs/stabadenvP7/lib/python3.12/site-packages (from mlflow) (1.26.4)\n",
      "Requirement already satisfied: opentelemetry-api<3,>=1.9.0 in /home/alexandre/anaconda3/envs/stabadenvP7/lib/python3.12/site-packages (from mlflow) (1.25.0)\n",
      "Requirement already satisfied: opentelemetry-sdk<3,>=1.9.0 in /home/alexandre/anaconda3/envs/stabadenvP7/lib/python3.12/site-packages (from mlflow) (1.25.0)\n",
      "Requirement already satisfied: packaging<25 in /home/alexandre/anaconda3/envs/stabadenvP7/lib/python3.12/site-packages (from mlflow) (23.2)\n",
      "Requirement already satisfied: pandas<3 in /home/alexandre/anaconda3/envs/stabadenvP7/lib/python3.12/site-packages (from mlflow) (2.2.2)\n",
      "Requirement already satisfied: protobuf<5,>=3.12.0 in /home/alexandre/anaconda3/envs/stabadenvP7/lib/python3.12/site-packages (from mlflow) (4.25.3)\n",
      "Requirement already satisfied: pyarrow<16,>=4.0.0 in /home/alexandre/anaconda3/envs/stabadenvP7/lib/python3.12/site-packages (from mlflow) (15.0.2)\n",
      "Requirement already satisfied: pytz<2025 in /home/alexandre/anaconda3/envs/stabadenvP7/lib/python3.12/site-packages (from mlflow) (2024.1)\n",
      "Requirement already satisfied: pyyaml<7,>=5.1 in /home/alexandre/anaconda3/envs/stabadenvP7/lib/python3.12/site-packages (from mlflow) (6.0.1)\n",
      "Requirement already satisfied: querystring-parser<2 in /home/alexandre/anaconda3/envs/stabadenvP7/lib/python3.12/site-packages (from mlflow) (1.2.4)\n",
      "Requirement already satisfied: requests<3,>=2.17.3 in /home/alexandre/anaconda3/envs/stabadenvP7/lib/python3.12/site-packages (from mlflow) (2.32.2)\n",
      "Requirement already satisfied: scikit-learn<2 in /home/alexandre/anaconda3/envs/stabadenvP7/lib/python3.12/site-packages (from mlflow) (1.5.0)\n",
      "Requirement already satisfied: scipy<2 in /home/alexandre/anaconda3/envs/stabadenvP7/lib/python3.12/site-packages (from mlflow) (1.13.1)\n",
      "Requirement already satisfied: sqlalchemy<3,>=1.4.0 in /home/alexandre/anaconda3/envs/stabadenvP7/lib/python3.12/site-packages (from mlflow) (2.0.31)\n",
      "Requirement already satisfied: sqlparse<1,>=0.4.0 in /home/alexandre/anaconda3/envs/stabadenvP7/lib/python3.12/site-packages (from mlflow) (0.5.0)\n",
      "Requirement already satisfied: Jinja2<4,>=2.11 in /home/alexandre/anaconda3/envs/stabadenvP7/lib/python3.12/site-packages (from mlflow) (3.1.4)\n",
      "Requirement already satisfied: gunicorn<23 in /home/alexandre/anaconda3/envs/stabadenvP7/lib/python3.12/site-packages (from mlflow) (22.0.0)\n",
      "Requirement already satisfied: Mako in /home/alexandre/anaconda3/envs/stabadenvP7/lib/python3.12/site-packages (from alembic!=1.10.0,<2->mlflow) (1.3.5)\n",
      "Requirement already satisfied: typing-extensions>=4 in /home/alexandre/anaconda3/envs/stabadenvP7/lib/python3.12/site-packages (from alembic!=1.10.0,<2->mlflow) (4.11.0)\n",
      "Requirement already satisfied: urllib3>=1.26.0 in /home/alexandre/anaconda3/envs/stabadenvP7/lib/python3.12/site-packages (from docker<8,>=4.0.0->mlflow) (2.2.1)\n",
      "Requirement already satisfied: Werkzeug>=3.0.0 in /home/alexandre/anaconda3/envs/stabadenvP7/lib/python3.12/site-packages (from Flask<4->mlflow) (3.0.3)\n",
      "Requirement already satisfied: itsdangerous>=2.1.2 in /home/alexandre/anaconda3/envs/stabadenvP7/lib/python3.12/site-packages (from Flask<4->mlflow) (2.2.0)\n",
      "Requirement already satisfied: blinker>=1.6.2 in /home/alexandre/anaconda3/envs/stabadenvP7/lib/python3.12/site-packages (from Flask<4->mlflow) (1.8.2)\n",
      "Requirement already satisfied: gitdb<5,>=4.0.1 in /home/alexandre/anaconda3/envs/stabadenvP7/lib/python3.12/site-packages (from gitpython<4,>=3.1.9->mlflow) (4.0.11)\n",
      "Requirement already satisfied: graphql-core<3.3,>=3.1 in /home/alexandre/anaconda3/envs/stabadenvP7/lib/python3.12/site-packages (from graphene<4->mlflow) (3.2.3)\n",
      "Requirement already satisfied: graphql-relay<3.3,>=3.1 in /home/alexandre/anaconda3/envs/stabadenvP7/lib/python3.12/site-packages (from graphene<4->mlflow) (3.2.0)\n",
      "Requirement already satisfied: aniso8601<10,>=8 in /home/alexandre/anaconda3/envs/stabadenvP7/lib/python3.12/site-packages (from graphene<4->mlflow) (9.0.1)\n",
      "Requirement already satisfied: zipp>=0.5 in /home/alexandre/anaconda3/envs/stabadenvP7/lib/python3.12/site-packages (from importlib-metadata!=4.7.0,<8,>=3.7.0->mlflow) (3.19.2)\n",
      "Requirement already satisfied: MarkupSafe>=2.0 in /home/alexandre/anaconda3/envs/stabadenvP7/lib/python3.12/site-packages (from Jinja2<4,>=2.11->mlflow) (2.1.3)\n",
      "Requirement already satisfied: contourpy>=1.0.1 in /home/alexandre/anaconda3/envs/stabadenvP7/lib/python3.12/site-packages (from matplotlib<4->mlflow) (1.2.1)\n",
      "Requirement already satisfied: cycler>=0.10 in /home/alexandre/anaconda3/envs/stabadenvP7/lib/python3.12/site-packages (from matplotlib<4->mlflow) (0.12.1)\n",
      "Requirement already satisfied: fonttools>=4.22.0 in /home/alexandre/anaconda3/envs/stabadenvP7/lib/python3.12/site-packages (from matplotlib<4->mlflow) (4.53.0)\n",
      "Requirement already satisfied: kiwisolver>=1.3.1 in /home/alexandre/anaconda3/envs/stabadenvP7/lib/python3.12/site-packages (from matplotlib<4->mlflow) (1.4.5)\n",
      "Requirement already satisfied: pillow>=8 in /home/alexandre/anaconda3/envs/stabadenvP7/lib/python3.12/site-packages (from matplotlib<4->mlflow) (10.3.0)\n",
      "Requirement already satisfied: pyparsing>=2.3.1 in /home/alexandre/anaconda3/envs/stabadenvP7/lib/python3.12/site-packages (from matplotlib<4->mlflow) (3.1.2)\n",
      "Requirement already satisfied: python-dateutil>=2.7 in /home/alexandre/anaconda3/envs/stabadenvP7/lib/python3.12/site-packages (from matplotlib<4->mlflow) (2.9.0.post0)\n",
      "Requirement already satisfied: deprecated>=1.2.6 in /home/alexandre/anaconda3/envs/stabadenvP7/lib/python3.12/site-packages (from opentelemetry-api<3,>=1.9.0->mlflow) (1.2.14)\n",
      "Requirement already satisfied: opentelemetry-semantic-conventions==0.46b0 in /home/alexandre/anaconda3/envs/stabadenvP7/lib/python3.12/site-packages (from opentelemetry-sdk<3,>=1.9.0->mlflow) (0.46b0)\n",
      "Requirement already satisfied: tzdata>=2022.7 in /home/alexandre/anaconda3/envs/stabadenvP7/lib/python3.12/site-packages (from pandas<3->mlflow) (2024.1)\n",
      "Requirement already satisfied: six in /home/alexandre/anaconda3/envs/stabadenvP7/lib/python3.12/site-packages (from querystring-parser<2->mlflow) (1.16.0)\n",
      "Requirement already satisfied: charset-normalizer<4,>=2 in /home/alexandre/anaconda3/envs/stabadenvP7/lib/python3.12/site-packages (from requests<3,>=2.17.3->mlflow) (2.0.4)\n",
      "Requirement already satisfied: idna<4,>=2.5 in /home/alexandre/anaconda3/envs/stabadenvP7/lib/python3.12/site-packages (from requests<3,>=2.17.3->mlflow) (3.7)\n",
      "Requirement already satisfied: certifi>=2017.4.17 in /home/alexandre/anaconda3/envs/stabadenvP7/lib/python3.12/site-packages (from requests<3,>=2.17.3->mlflow) (2024.6.2)\n",
      "Requirement already satisfied: joblib>=1.2.0 in /home/alexandre/anaconda3/envs/stabadenvP7/lib/python3.12/site-packages (from scikit-learn<2->mlflow) (1.4.2)\n",
      "Requirement already satisfied: threadpoolctl>=3.1.0 in /home/alexandre/anaconda3/envs/stabadenvP7/lib/python3.12/site-packages (from scikit-learn<2->mlflow) (3.5.0)\n",
      "Requirement already satisfied: greenlet!=0.4.17 in /home/alexandre/anaconda3/envs/stabadenvP7/lib/python3.12/site-packages (from sqlalchemy<3,>=1.4.0->mlflow) (3.0.3)\n",
      "Requirement already satisfied: wrapt<2,>=1.10 in /home/alexandre/anaconda3/envs/stabadenvP7/lib/python3.12/site-packages (from deprecated>=1.2.6->opentelemetry-api<3,>=1.9.0->mlflow) (1.16.0)\n",
      "Requirement already satisfied: smmap<6,>=3.0.1 in /home/alexandre/anaconda3/envs/stabadenvP7/lib/python3.12/site-packages (from gitdb<5,>=4.0.1->gitpython<4,>=3.1.9->mlflow) (5.0.1)\n",
      "Note: you may need to restart the kernel to use updated packages.\n"
     ]
    }
   ],
   "source": [
    "pip install mlflow\n"
   ]
  },
  {
   "cell_type": "code",
   "execution_count": 1,
   "id": "af8e68ae-05b8-48b9-be6f-91b1a8ebd03b",
   "metadata": {},
   "outputs": [
    {
     "name": "stdout",
     "output_type": "stream",
     "text": [
      "Collecting imbalanced-learn\n",
      "  Downloading imbalanced_learn-0.12.3-py3-none-any.whl.metadata (8.3 kB)\n",
      "Requirement already satisfied: numpy>=1.17.3 in /home/alexandre/anaconda3/envs/stabadenvP7/lib/python3.12/site-packages (from imbalanced-learn) (1.26.4)\n",
      "Requirement already satisfied: scipy>=1.5.0 in /home/alexandre/anaconda3/envs/stabadenvP7/lib/python3.12/site-packages (from imbalanced-learn) (1.13.1)\n",
      "Requirement already satisfied: scikit-learn>=1.0.2 in /home/alexandre/anaconda3/envs/stabadenvP7/lib/python3.12/site-packages (from imbalanced-learn) (1.5.0)\n",
      "Requirement already satisfied: joblib>=1.1.1 in /home/alexandre/anaconda3/envs/stabadenvP7/lib/python3.12/site-packages (from imbalanced-learn) (1.4.2)\n",
      "Requirement already satisfied: threadpoolctl>=2.0.0 in /home/alexandre/anaconda3/envs/stabadenvP7/lib/python3.12/site-packages (from imbalanced-learn) (3.5.0)\n",
      "Downloading imbalanced_learn-0.12.3-py3-none-any.whl (258 kB)\n",
      "\u001b[2K   \u001b[38;2;114;156;31m━━━━━━━━━━━━━━━━━━━━━━━━━━━━━━━━━━━━━━━━\u001b[0m \u001b[32m258.3/258.3 kB\u001b[0m \u001b[31m1.0 MB/s\u001b[0m eta \u001b[36m0:00:00\u001b[0m MB/s\u001b[0m eta \u001b[36m0:00:01\u001b[0mm1\u001b[0m\n",
      "\u001b[?25hInstalling collected packages: imbalanced-learn\n",
      "Successfully installed imbalanced-learn-0.12.3\n",
      "Note: you may need to restart the kernel to use updated packages.\n"
     ]
    }
   ],
   "source": [
    "pip install imbalanced-learn\n"
   ]
  },
  {
   "cell_type": "code",
   "execution_count": 2,
   "id": "431e11a7-c1a6-4671-a5fc-fd28e62dad62",
   "metadata": {},
   "outputs": [
    {
     "name": "stdout",
     "output_type": "stream",
     "text": [
      "Collecting xgboost\n",
      "  Downloading xgboost-2.1.0-py3-none-manylinux_2_28_x86_64.whl.metadata (2.1 kB)\n",
      "Requirement already satisfied: numpy in /home/alexandre/anaconda3/envs/stabadenvP7/lib/python3.12/site-packages (from xgboost) (1.26.4)\n",
      "Collecting nvidia-nccl-cu12 (from xgboost)\n",
      "  Downloading nvidia_nccl_cu12-2.22.3-py3-none-manylinux2014_x86_64.whl.metadata (1.8 kB)\n",
      "Requirement already satisfied: scipy in /home/alexandre/anaconda3/envs/stabadenvP7/lib/python3.12/site-packages (from xgboost) (1.13.1)\n",
      "Downloading xgboost-2.1.0-py3-none-manylinux_2_28_x86_64.whl (153.9 MB)\n",
      "\u001b[2K   \u001b[38;2;114;156;31m━━━━━━━━━━━━━━━━━━━━━━━━━━━━━━━━━━━━━━━━\u001b[0m \u001b[32m153.9/153.9 MB\u001b[0m \u001b[31m3.4 MB/s\u001b[0m eta \u001b[36m0:00:00\u001b[0mm eta \u001b[36m0:00:01\u001b[0m[36m0:00:02\u001b[0m\n",
      "\u001b[?25hDownloading nvidia_nccl_cu12-2.22.3-py3-none-manylinux2014_x86_64.whl (190.9 MB)\n",
      "\u001b[2K   \u001b[38;2;114;156;31m━━━━━━━━━━━━━━━━━━━━━━━━━━━━━━━━━━━━━━━━\u001b[0m \u001b[32m190.9/190.9 MB\u001b[0m \u001b[31m4.0 MB/s\u001b[0m eta \u001b[36m0:00:00\u001b[0mm eta \u001b[36m0:00:01\u001b[0m[36m0:00:01\u001b[0m\n",
      "\u001b[?25hInstalling collected packages: nvidia-nccl-cu12, xgboost\n",
      "Successfully installed nvidia-nccl-cu12-2.22.3 xgboost-2.1.0\n",
      "Note: you may need to restart the kernel to use updated packages.\n"
     ]
    }
   ],
   "source": [
    "pip install xgboost"
   ]
  },
  {
   "cell_type": "code",
   "execution_count": 3,
   "id": "9c0dfde6-f89a-4755-8e25-f33c3c23cc37",
   "metadata": {},
   "outputs": [
    {
     "name": "stdout",
     "output_type": "stream",
     "text": [
      "Collecting shap\n",
      "  Downloading shap-0.45.1-cp312-cp312-manylinux_2_12_x86_64.manylinux2010_x86_64.manylinux_2_17_x86_64.manylinux2014_x86_64.whl.metadata (24 kB)\n",
      "Requirement already satisfied: numpy in /home/alexandre/anaconda3/envs/stabadenvP7/lib/python3.12/site-packages (from shap) (1.26.4)\n",
      "Requirement already satisfied: scipy in /home/alexandre/anaconda3/envs/stabadenvP7/lib/python3.12/site-packages (from shap) (1.13.1)\n",
      "Requirement already satisfied: scikit-learn in /home/alexandre/anaconda3/envs/stabadenvP7/lib/python3.12/site-packages (from shap) (1.5.0)\n",
      "Requirement already satisfied: pandas in /home/alexandre/anaconda3/envs/stabadenvP7/lib/python3.12/site-packages (from shap) (2.2.2)\n",
      "Collecting tqdm>=4.27.0 (from shap)\n",
      "  Using cached tqdm-4.66.4-py3-none-any.whl.metadata (57 kB)\n",
      "Requirement already satisfied: packaging>20.9 in /home/alexandre/anaconda3/envs/stabadenvP7/lib/python3.12/site-packages (from shap) (23.2)\n",
      "Collecting slicer==0.0.8 (from shap)\n",
      "  Downloading slicer-0.0.8-py3-none-any.whl.metadata (4.0 kB)\n",
      "Collecting numba (from shap)\n",
      "  Downloading numba-0.60.0-cp312-cp312-manylinux2014_x86_64.manylinux_2_17_x86_64.whl.metadata (2.7 kB)\n",
      "Requirement already satisfied: cloudpickle in /home/alexandre/anaconda3/envs/stabadenvP7/lib/python3.12/site-packages (from shap) (3.0.0)\n",
      "Collecting llvmlite<0.44,>=0.43.0dev0 (from numba->shap)\n",
      "  Downloading llvmlite-0.43.0-cp312-cp312-manylinux_2_17_x86_64.manylinux2014_x86_64.whl.metadata (4.8 kB)\n",
      "Requirement already satisfied: python-dateutil>=2.8.2 in /home/alexandre/anaconda3/envs/stabadenvP7/lib/python3.12/site-packages (from pandas->shap) (2.9.0.post0)\n",
      "Requirement already satisfied: pytz>=2020.1 in /home/alexandre/anaconda3/envs/stabadenvP7/lib/python3.12/site-packages (from pandas->shap) (2024.1)\n",
      "Requirement already satisfied: tzdata>=2022.7 in /home/alexandre/anaconda3/envs/stabadenvP7/lib/python3.12/site-packages (from pandas->shap) (2024.1)\n",
      "Requirement already satisfied: joblib>=1.2.0 in /home/alexandre/anaconda3/envs/stabadenvP7/lib/python3.12/site-packages (from scikit-learn->shap) (1.4.2)\n",
      "Requirement already satisfied: threadpoolctl>=3.1.0 in /home/alexandre/anaconda3/envs/stabadenvP7/lib/python3.12/site-packages (from scikit-learn->shap) (3.5.0)\n",
      "Requirement already satisfied: six>=1.5 in /home/alexandre/anaconda3/envs/stabadenvP7/lib/python3.12/site-packages (from python-dateutil>=2.8.2->pandas->shap) (1.16.0)\n",
      "Downloading shap-0.45.1-cp312-cp312-manylinux_2_12_x86_64.manylinux2010_x86_64.manylinux_2_17_x86_64.manylinux2014_x86_64.whl (544 kB)\n",
      "\u001b[2K   \u001b[38;2;114;156;31m━━━━━━━━━━━━━━━━━━━━━━━━━━━━━━━━━━━━━━━━\u001b[0m \u001b[32m544.3/544.3 kB\u001b[0m \u001b[31m1.9 MB/s\u001b[0m eta \u001b[36m0:00:00\u001b[0m[31m1.9 MB/s\u001b[0m eta \u001b[36m0:00:01\u001b[0m\n",
      "\u001b[?25hDownloading slicer-0.0.8-py3-none-any.whl (15 kB)\n",
      "Using cached tqdm-4.66.4-py3-none-any.whl (78 kB)\n",
      "Downloading numba-0.60.0-cp312-cp312-manylinux2014_x86_64.manylinux_2_17_x86_64.whl (3.8 MB)\n",
      "\u001b[2K   \u001b[38;2;114;156;31m━━━━━━━━━━━━━━━━━━━━━━━━━━━━━━━━━━━━━━━━\u001b[0m \u001b[32m3.8/3.8 MB\u001b[0m \u001b[31m3.7 MB/s\u001b[0m eta \u001b[36m0:00:00\u001b[0mm eta \u001b[36m0:00:01\u001b[0m0:01\u001b[0m:01\u001b[0m\n",
      "\u001b[?25hDownloading llvmlite-0.43.0-cp312-cp312-manylinux_2_17_x86_64.manylinux2014_x86_64.whl (43.9 MB)\n",
      "\u001b[2K   \u001b[38;2;114;156;31m━━━━━━━━━━━━━━━━━━━━━━━━━━━━━━━━━━━━━━━━\u001b[0m \u001b[32m43.9/43.9 MB\u001b[0m \u001b[31m4.9 MB/s\u001b[0m eta \u001b[36m0:00:00\u001b[0mm eta \u001b[36m0:00:01\u001b[0m[36m0:00:01\u001b[0m\n",
      "\u001b[?25hInstalling collected packages: tqdm, slicer, llvmlite, numba, shap\n",
      "Successfully installed llvmlite-0.43.0 numba-0.60.0 shap-0.45.1 slicer-0.0.8 tqdm-4.66.4\n",
      "Note: you may need to restart the kernel to use updated packages.\n"
     ]
    }
   ],
   "source": [
    "pip install shap\n"
   ]
  },
  {
   "cell_type": "code",
   "execution_count": 1,
   "id": "083ff2b4-4cfb-4315-aae1-bfac4f7da953",
   "metadata": {},
   "outputs": [],
   "source": [
    "import pandas as pd\n",
    "\n",
    "# Lire le fichier app_datas_light.csv dans un DataFrame\n",
    "df = pd.read_csv('csv_files/app_datas_light.csv')\n",
    "\n",
    "# Prendre les 50 premiers individus\n",
    "df_light = df.head(50)\n",
    "\n",
    "# Exporter le DataFrame dans un nouveau fichier app_datas_light_very_light.csv\n",
    "df_light.to_csv('csv_files/app_datas_light_very_light.csv', index=False)\n"
   ]
  },
  {
   "cell_type": "code",
   "execution_count": null,
   "id": "bde620ce-9938-474a-bcfb-28688e60cd1f",
   "metadata": {},
   "outputs": [],
   "source": []
  }
 ],
 "metadata": {
  "kernelspec": {
   "display_name": "Python 3 (ipykernel)",
   "language": "python",
   "name": "python3"
  },
  "language_info": {
   "codemirror_mode": {
    "name": "ipython",
    "version": 3
   },
   "file_extension": ".py",
   "mimetype": "text/x-python",
   "name": "python",
   "nbconvert_exporter": "python",
   "pygments_lexer": "ipython3",
   "version": "3.12.3"
  }
 },
 "nbformat": 4,
 "nbformat_minor": 5
}
